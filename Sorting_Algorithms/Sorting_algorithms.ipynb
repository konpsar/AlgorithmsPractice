{
 "cells": [
  {
   "cell_type": "markdown",
   "metadata": {},
   "source": [
    "## Sorting algorithms\n",
    "Sorting algorithms are a big and important chapter in Algorithms field of computer science.  Sorting can reduce the complexity of a problem and can be used in combination with other algorithms such as searching, data structure algorithms, and many more.\n",
    "A sorting algorithm is a set of instructions that takes as input an array or a list and arranges its elements into a particular order.\n",
    "Numerical or lexicographical order are the most common types and can be either ascending or descending. However, algorithms can be customized to arrange elements with custom ordering rules depending on the requirements of the algorithm. \n",
    "\n",
    "## Common sorting algorithms\n",
    "Some common sorting algorithms are:\n",
    "- Selection Sort\n",
    "- Insertion Sort\n",
    "- Merge Sort\n",
    "- Bubble Sort\n",
    "- Quick Sort\n",
    "- Heap Sort\n",
    "- Radix Sort\n",
    "\n",
    "  Let's explore them one by one:"
   ]
  },
  {
   "cell_type": "code",
   "execution_count": 227,
   "metadata": {},
   "outputs": [],
   "source": [
    "#We create a random list for testing:\n",
    "import time\n",
    "import random\n",
    "L = []\n",
    "verbose=False\n",
    "\n",
    "for i in range(2000):\n",
    "    L.append(random.randint(1, 50000))"
   ]
  },
  {
   "cell_type": "markdown",
   "metadata": {},
   "source": [
    "## Selection Sort\n",
    "\n",
    "#### Basic Idea\n",
    "\n",
    "#### Implementation"
   ]
  },
  {
   "cell_type": "code",
   "execution_count": 16,
   "metadata": {},
   "outputs": [
    {
     "name": "stdout",
     "output_type": "stream",
     "text": [
      "[2, 5, 4, 1, 6]\n",
      "[1, 2, 4, 5, 6]\n",
      "[2, 5, 4, 1, 6]\n",
      "None\n",
      "[1, 2, 4, 5, 6]\n"
     ]
    }
   ],
   "source": [
    "#linear search for the minimum element in a list starting from a specific index\n",
    "def find_min_from(L, startFrom):\n",
    "    min_idx = startFrom\n",
    "    for i in range(startFrom+1, len(L)):\n",
    "        if L[i]<L[min_idx]:\n",
    "            min_idx = i\n",
    "    return min_idx \n",
    "\n",
    "# Selection sort implementation\n",
    "def selection_sort(L):\n",
    "    for i in range(len(L)):\n",
    "        min_idx = find_min_from(L, i)\n",
    "        L[i], L[min_idx] = L[min_idx], L[i]\n",
    "\n",
    "\n",
    "#Recursive implementation instead of while loop\n",
    "def selection_sort_recursive(L, startFrom=0):\n",
    "    if startFrom < len(L):\n",
    "        min_idx = find_min_from(L, startFrom)\n",
    "        L[startFrom], L[min_idx] = L[min_idx], L[startFrom]\n",
    "        selection_sort_recursive(L, startFrom + 1)\n",
    "    \n",
    "        \n",
    "\n"
   ]
  },
  {
   "cell_type": "markdown",
   "metadata": {},
   "source": [
    "## Testing Selection Sort"
   ]
  },
  {
   "cell_type": "code",
   "execution_count": 97,
   "metadata": {},
   "outputs": [
    {
     "name": "stdout",
     "output_type": "stream",
     "text": [
      "20.82371711730957\n",
      "32.518863677978516\n"
     ]
    }
   ],
   "source": [
    "L1_1 = L.copy()\n",
    "L1_2 = L.copy()\n",
    "\n",
    "# print(L1_1)\n",
    "start=time.time()\n",
    "selection_sort(L1_1)\n",
    "print((time.time()-start)*1000)\n",
    "# print(L1_1)\n",
    "# print(L1_2)\n",
    "\n",
    "start=time.time()\n",
    "selection_sort_recursive(L1_2)\n",
    "print((time.time()-start)*1000)\n",
    "# print(L1_2)"
   ]
  },
  {
   "cell_type": "markdown",
   "metadata": {},
   "source": [
    "## Insertion Sort\n",
    "\n",
    "#### Basic Idea\n",
    "\n",
    "#### Implementation"
   ]
  },
  {
   "cell_type": "code",
   "execution_count": 60,
   "metadata": {},
   "outputs": [],
   "source": [
    "# swap 1 by 1 the elements going backwards, until the position of the current element is found\n",
    "def insert(L, idx):\n",
    "    i = idx\n",
    "    while i>0 and L[i-1] > L[i]:\n",
    "        L[i], L[i-1] = L[i-1], L[i]\n",
    "        i-=1\n",
    "\n",
    "def insertion_sort(L):\n",
    "    for i in range(1, len(L)):\n",
    "        insert(L,i)\n",
    "#         print(L)\n"
   ]
  },
  {
   "cell_type": "markdown",
   "metadata": {},
   "source": [
    "Successive swaps of list elements in each step of the loop is a big bottleneck of the time complexity of the algorithm.\n",
    "All the job of the algorithm is done in the insert(L, idx) function. Thus If any optimization can be done to the function, it can been done in this function.\n",
    "In the following section, there are two additional implementations to optimize insertion sort algorithm. \n",
    "\n",
    "The first alternative implementation avoids swapping elements. Instead, the current element is kept in a variable and algorithm shifts list elements one by one in the loop, resulting in one list element assignment instead of two. I assume that this could reduce the runtime almost by half. "
   ]
  },
  {
   "cell_type": "code",
   "execution_count": 188,
   "metadata": {},
   "outputs": [],
   "source": [
    "       \n",
    "def insert_slide(L, idx):\n",
    "    temp = L[idx]\n",
    "    i = idx-1\n",
    "    while i>=0 and L[i]>temp:\n",
    "        L[i+1] = L[i]\n",
    "        i-=1\n",
    "    L[i+1] = temp        \n",
    "\n",
    "\n",
    "def insertion_sort_slide(L):\n",
    "    for i in range(1, len(L)):\n",
    "        insert_slide(L,i)\n",
    "#         print(L)\n",
    "        \n",
    "        "
   ]
  },
  {
   "cell_type": "markdown",
   "metadata": {},
   "source": [
    "The second alternative implementation pops current element from the list and it \"searches\" the appropriate position for the popped element by doing backward steps in the while loop. When appropriate position is reached, popped element is inserted through python .insert() function to its final position in the list.\n",
    "In this way, we avoid all the list elements assignments done in each step of the algorithm in previous implementations, which I assume will reduce the runtime more than 50% from the initial implementation. "
   ]
  },
  {
   "cell_type": "code",
   "execution_count": 182,
   "metadata": {},
   "outputs": [],
   "source": [
    "# pop current element and put it in the appropriate position\n",
    "def insert_pop(L, idx):\n",
    "    temp = L.pop(idx)\n",
    "    i=idx-1\n",
    "    while i>=0 and L[i]>temp :\n",
    "        i-=1\n",
    "    L.insert(i+1, temp)\n",
    "    \n",
    "\n",
    "def insertion_sort_pop(L):\n",
    "    for i in range(1, len(L)):\n",
    "        insert_pop(L,i)\n",
    "#         print(L)\n",
    "        "
   ]
  },
  {
   "cell_type": "markdown",
   "metadata": {},
   "source": [
    "## Testing Insertion Sort:\n",
    "Let's now test the above implementations of insertion sort to check both their validity and their time complexity."
   ]
  },
  {
   "cell_type": "code",
   "execution_count": 229,
   "metadata": {},
   "outputs": [
    {
     "name": "stdout",
     "output_type": "stream",
     "text": [
      "insertion_sort       --> Time elapsed: 305.071115ms\n",
      "insertion_sort_slide --> Time elapsed: 180.993557ms. (Runtime reduced by 59.33%) (correct sorting)\n",
      "insertion_sort_pop   --> Time elapsed: 110.926151ms. (Runtime reduced by 36.36%) (correct sorting)\n"
     ]
    }
   ],
   "source": [
    "funcs = ['insertion_sort', 'insertion_sort_slide', 'insertion_sort_pop']\n",
    "Ls = [L.copy() for i in range(len(funcs))]\n",
    "times = []\n",
    "\n",
    "for (i,f) in enumerate(funcs):\n",
    "    func = eval(f) \n",
    "    start = time.time()\n",
    "    exec(f\"func(Ls[i])\")\n",
    "    times.append((time.time()-start)*1000)\n",
    "\n",
    "\n",
    "try:\n",
    "    percs = [100*times[i]/times[0] for i in range(len(times))]\n",
    "\n",
    "    print(\"{:20s} --> Time elapsed: {:3.6f}ms\".format(funcs[0], times[0])) \n",
    "    for i in range(1, len(funcs)):\n",
    "        print(\"{:20s} --> Time elapsed: {:3.6f}ms. (Runtime reduced by {:2.2f}%) ({} sorting)\"\\\n",
    "              .format(funcs[i], times[i], percs[i], (sorted(L)==Ls[i])*\"correct\"+(sorted(L)!=Ls[i])*\"wrong\"))\n",
    "        sorted(L)==Ls[i]\n",
    "except:\n",
    "    print(\"{:20s} --> Time elapsed: {:3.6f}ms\".format(funcs[0], times[0])) \n",
    "    for i in range(1, len(funcs)):\n",
    "        print(\"{:20s} --> Time elapsed: {:3.6f}ms\".format(funcs[i], times[i]))"
   ]
  },
  {
   "cell_type": "markdown",
   "metadata": {},
   "source": [
    "References:\n",
    "\n",
    "[1] [https://www.freecodecamp.org/news/sorting-algorithms-explained/](https://www.freecodecamp.org/news/sorting-algorithms-explained/)"
   ]
  }
 ],
 "metadata": {
  "interpreter": {
   "hash": "97ae724bfa85b9b34df7982b8bb8c7216f435b92902d749e4263f71162bea840"
  },
  "kernelspec": {
   "display_name": "Python 3",
   "language": "python",
   "name": "python3"
  },
  "language_info": {
   "codemirror_mode": {
    "name": "ipython",
    "version": 3
   },
   "file_extension": ".py",
   "mimetype": "text/x-python",
   "name": "python",
   "nbconvert_exporter": "python",
   "pygments_lexer": "ipython3",
   "version": "3.8.5"
  }
 },
 "nbformat": 4,
 "nbformat_minor": 2
}
