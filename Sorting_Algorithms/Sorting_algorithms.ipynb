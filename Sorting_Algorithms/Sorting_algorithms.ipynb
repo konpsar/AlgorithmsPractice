{
 "cells": [
  {
   "cell_type": "markdown",
   "metadata": {},
   "source": [
    "## Sorting algorithms\r\n",
    "Sorting algorithms are a big and important chapter in Algorithms field of computer science.  Sorting can reduce the complexity of a problem and can be used in combination with other algorithms such as searching, data structure algorithms, and many more.\r\n",
    "A sorting algorithm is a set of instructions that takes as input an array or a list and arranges its elements into a particular order.\r\n",
    "Numerical or lexicographical order are the most common types and can be either ascending or descending. However, algorithms can be customized to arrange elements with custom ordering rules depending on the requirements of the algorithm. \r\n",
    "\r\n",
    "## Common sorting algorithms\r\n",
    "Some common sorting algorithms are:\r\n",
    "- Selection Sort\r\n",
    "- Insertion Sort\r\n",
    "- Merge Sort\r\n",
    "- Bubble Sort\r\n",
    "- Quick Sort\r\n",
    "- Heap Sort\r\n",
    "- Radix Sort\r\n",
    "\r\n",
    "  Let's explore them one by one:"
   ]
  },
  {
   "cell_type": "markdown",
   "metadata": {},
   "source": [
    "## Selection Sort\r\n",
    "\r\n",
    "#### Basic Idea\r\n",
    "\r\n",
    "#### Implementation"
   ]
  },
  {
   "cell_type": "code",
   "execution_count": 16,
   "metadata": {},
   "outputs": [
    {
     "name": "stdout",
     "output_type": "stream",
     "text": [
      "[2, 5, 4, 1, 6]\n",
      "[1, 2, 4, 5, 6]\n",
      "[2, 5, 4, 1, 6]\n",
      "None\n",
      "[1, 2, 4, 5, 6]\n"
     ]
    }
   ],
   "source": [
    "#linear search for the minimum element in a list starting from a specific index\r\n",
    "def find_min_from(L, startFrom):\r\n",
    "    min_idx = startFrom\r\n",
    "    for i in range(startFrom+1, len(L)):\r\n",
    "        if L[i]<L[min_idx]:\r\n",
    "            min_idx = i\r\n",
    "    return min_idx \r\n",
    "\r\n",
    "# Selection sort implementation\r\n",
    "def selection_sort(L):\r\n",
    "    for i in range(len(L)):\r\n",
    "        min_idx = find_min_from(L, i)\r\n",
    "        L[i], L[min_idx] = L[min_idx], L[i]\r\n",
    "\r\n",
    "\r\n",
    "#Recursive implementation instead of while loop\r\n",
    "def selection_sort_recursive(L, startFrom=0):\r\n",
    "    if startFrom < len(L):\r\n",
    "        min_idx = find_min_from(L, startFrom)\r\n",
    "        L[startFrom], L[min_idx] = L[min_idx], L[startFrom]\r\n",
    "        selection_sort_recursive(L, startFrom + 1)\r\n",
    "    \r\n",
    "        \r\n",
    "\r\n",
    "\r\n",
    "L1 = [2, 5, 4, 1, 6]\r\n",
    "L2 = L1.copy()\r\n",
    "print(L1)\r\n",
    "selection_sort(L1)\r\n",
    "print(L1)\r\n",
    "print(L2)\r\n",
    "selection_sort_recursive(L2)\r\n",
    "print(L2)\r\n"
   ]
  },
  {
   "cell_type": "markdown",
   "metadata": {},
   "source": [
    "## Insertion Sort\r\n",
    "\r\n",
    "#### Basic Idea\r\n",
    "\r\n",
    "#### Implementation"
   ]
  },
  {
   "cell_type": "code",
   "execution_count": 64,
   "metadata": {},
   "outputs": [
    {
     "name": "stdout",
     "output_type": "stream",
     "text": [
      "4505.448579788208\n",
      "23.52452278137207\n"
     ]
    }
   ],
   "source": [
    "\r\n",
    "# swap 1 by 1 the elements going backwards, until the position of the current element is found\r\n",
    "def insert(L, idx):\r\n",
    "    i = idx\r\n",
    "    while i>0 and L[i-1] > L[i]:\r\n",
    "        L[i], L[i-1] = L[i-1], L[i]\r\n",
    "        i-=1\r\n",
    "\r\n",
    "# pop current element and put it in the appropriate position\r\n",
    "def insert_pop(L, idx):\r\n",
    "    temp = L.pop(idx)\r\n",
    "    i=idx-1\r\n",
    "    while i>0 and L[i-1] > L[i]:\r\n",
    "        i-=1\r\n",
    "    L.insert(temp, i)\r\n",
    "\r\n",
    "def insertion_sort(L):\r\n",
    "    for i in range(1, len(L)):\r\n",
    "        insert(L,i)\r\n",
    "\r\n",
    "def insertion_sort_pop(L):\r\n",
    "    for i in range(1, len(L)):\r\n",
    "        insert_pop(L,i)\r\n",
    "        \r\n",
    "import time\r\n",
    "import random\r\n",
    "L1 = []\r\n",
    "for i in range(500):\r\n",
    "    L1.append(random.randint(1, 5000))\r\n",
    "L2 = L1.copy()\r\n",
    "# L1 = [2, 5, 4, 1, 6, 2345, 56, 45, 23, 4, 6, 7, 34,5, 7, 66]\r\n",
    "start = time.time()\r\n",
    "insertion_sort(L1)\r\n",
    "print((time.time()-start)*1000)\r\n",
    "start = time.time()\r\n",
    "insertion_sort_pop(L2)\r\n",
    "print((time.time()-start)*1000)\r\n"
   ]
  },
  {
   "cell_type": "markdown",
   "metadata": {},
   "source": [
    "References:\r\n",
    "\r\n",
    "[1] [https://www.freecodecamp.org/news/sorting-algorithms-explained/](https://www.freecodecamp.org/news/sorting-algorithms-explained/)"
   ]
  }
 ],
 "metadata": {
  "interpreter": {
   "hash": "97ae724bfa85b9b34df7982b8bb8c7216f435b92902d749e4263f71162bea840"
  },
  "kernelspec": {
   "display_name": "Python 3.8.5 64-bit ('base': conda)",
   "name": "python3"
  },
  "language_info": {
   "codemirror_mode": {
    "name": "ipython",
    "version": 3
   },
   "file_extension": ".py",
   "mimetype": "text/x-python",
   "name": "python",
   "nbconvert_exporter": "python",
   "pygments_lexer": "ipython3",
   "version": "3.8.5"
  },
  "orig_nbformat": 4
 },
 "nbformat": 4,
 "nbformat_minor": 2
}